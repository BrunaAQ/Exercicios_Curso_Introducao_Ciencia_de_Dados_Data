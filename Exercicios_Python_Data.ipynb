{
 "cells": [
  {
   "cell_type": "markdown",
   "metadata": {},
   "source": [
    "# Introdução à Data Science com Python - Data ICMC-USP\n",
    "\n",
    "Esse material foi desenvolvido pelo Data, grupo de extensão de aprendizado e ciência de dados compostos por alunos do Instituto de Ciências Matemáticas e de Computação da USP.\n",
    "\n",
    "Esse notebook é acompanhado de um curso em video, que pode ser encontrado em [aqui](https://www.youtube.com/playlist?list=PLFE-LjWAAP9SfEuLXf3qrpw4szKWjlYq9)\n",
    "\n",
    "Para saber mais sobre as atividades do Data entre no nosso site e nos siga e nossas redes sociais:\n",
    "- [Site](http://data.icmc.usp.br/)\n",
    "- [Twitter](https://twitter.com/data_icmc)\n",
    "- [LinkedIn](https://www.linkedin.com/school/data-icmc/)\n",
    "- [Facebook](https://www.facebook.com/dataICMC/)\n",
    "\n",
    "Aproveite o material!\n",
    "\n",
    "## Exercícios Python\n",
    "\n",
    "O objetivo desse notebook é ajudar na fixação dos conteúdos que passamos nas aulas de Python. Esse material foi preparado para acompanhar o que foi passado nos videos, e em breve teremos a divulgação das resuluções com um vídeo de explicação."
   ]
  },
  {
   "cell_type": "markdown",
   "metadata": {},
   "source": [
    "### Variáveis"
   ]
  },
  {
   "cell_type": "code",
   "execution_count": 1,
   "metadata": {},
   "outputs": [],
   "source": [
    "# Declare uma variavel chamada a e atribua o valor 10 a ela\n",
    "a = 10"
   ]
  },
  {
   "cell_type": "code",
   "execution_count": 2,
   "metadata": {},
   "outputs": [
    {
     "data": {
      "text/plain": [
       "10"
      ]
     },
     "execution_count": 2,
     "metadata": {},
     "output_type": "execute_result"
    }
   ],
   "source": [
    "# Imprime essa variavel que você acabou de criar\n",
    "# * PRIMEIRA MANEIRA * :\n",
    "a"
   ]
  },
  {
   "cell_type": "code",
   "execution_count": 3,
   "metadata": {},
   "outputs": [
    {
     "name": "stdout",
     "output_type": "stream",
     "text": [
      "10\n"
     ]
    }
   ],
   "source": [
    "# * SEGUNDA MANEIRA * #\n",
    "print(a)"
   ]
  },
  {
   "cell_type": "code",
   "execution_count": 4,
   "metadata": {},
   "outputs": [
    {
     "name": "stdout",
     "output_type": "stream",
     "text": [
      "Variável b =  10\n"
     ]
    },
    {
     "data": {
      "text/plain": [
       "str"
      ]
     },
     "execution_count": 4,
     "metadata": {},
     "output_type": "execute_result"
    }
   ],
   "source": [
    "# Crie uma outra variavel b que recebe o valor de a so que como string\n",
    "# * Converter a variável \"a\" para string\n",
    "a = \"10\"\n",
    "# * Variável \"b\" recebe \"a\" como string\n",
    "b = a\n",
    "print(\"Variável b = \", b)\n",
    "type(b)"
   ]
  },
  {
   "cell_type": "code",
   "execution_count": 5,
   "metadata": {},
   "outputs": [
    {
     "data": {
      "text/plain": [
       "str"
      ]
     },
     "execution_count": 5,
     "metadata": {},
     "output_type": "execute_result"
    }
   ],
   "source": [
    "# Combine sua variavel b a variavel abaixo para obter a string \"Hello 10\" em uma variavel d\n",
    "c = \"Hello \"\n",
    "# * Concatenando as string:\n",
    "d = c + b\n",
    "type(d)"
   ]
  },
  {
   "cell_type": "code",
   "execution_count": 7,
   "metadata": {},
   "outputs": [
    {
     "name": "stdout",
     "output_type": "stream",
     "text": [
      "Hello 10\n"
     ]
    }
   ],
   "source": [
    "# Imprima a variável d\n",
    "print(d)"
   ]
  },
  {
   "cell_type": "code",
   "execution_count": 9,
   "metadata": {},
   "outputs": [
    {
     "data": {
      "text/plain": [
       "'Hello 10'"
      ]
     },
     "execution_count": 9,
     "metadata": {},
     "output_type": "execute_result"
    }
   ],
   "source": [
    "d"
   ]
  },
  {
   "cell_type": "markdown",
   "metadata": {},
   "source": [
    "### Strings"
   ]
  },
  {
   "cell_type": "code",
   "execution_count": 10,
   "metadata": {},
   "outputs": [],
   "source": [
    "my_str = 'Insira uma frase aqui!'"
   ]
  },
  {
   "cell_type": "code",
   "execution_count": 11,
   "metadata": {},
   "outputs": [
    {
     "data": {
      "text/plain": [
       "'Insira uma frase aqui?'"
      ]
     },
     "execution_count": 11,
     "metadata": {},
     "output_type": "execute_result"
    }
   ],
   "source": [
    "# Substitua a exclamação da frase por uma interrogação\n",
    "# (Dica: A funcão altera inplace ou retorna uma copia modificada?)\n",
    "my_str_new = my_str.replace(\"!\", \"?\")\n",
    "my_str_new"
   ]
  },
  {
   "cell_type": "code",
   "execution_count": 12,
   "metadata": {},
   "outputs": [
    {
     "name": "stdout",
     "output_type": "stream",
     "text": [
      "['I', 'n', 's', 'i', 'r', 'a', 'u', 'm', 'a', 'f', 'r', 'a', 's', 'e', 'a', 'q', 'u', 'i', '!']\n"
     ]
    }
   ],
   "source": [
    "# Crie uma lista \"my_words\" com cada palavra a frase\n",
    "my_words = ['I', 'n', 's', 'i', 'r', 'a', 'u', 'm', 'a', 'f', 'r', 'a', 's', 'e', 'a', 'q', 'u', 'i', '!']\n",
    "print(my_words)"
   ]
  },
  {
   "cell_type": "markdown",
   "metadata": {},
   "source": [
    "### Listas"
   ]
  },
  {
   "cell_type": "code",
   "execution_count": 13,
   "metadata": {},
   "outputs": [],
   "source": [
    "lista = [1, 23, 31, 40, 56, 16]"
   ]
  },
  {
   "cell_type": "code",
   "execution_count": 14,
   "metadata": {},
   "outputs": [
    {
     "name": "stdout",
     "output_type": "stream",
     "text": [
      "1\n",
      "23\n",
      "31\n",
      "40\n",
      "56\n",
      "16\n"
     ]
    }
   ],
   "source": [
    "# Faça um for que imprima cada elemento da lista \"lista\" (Lembre-se que o for em python é um for each)\n",
    "for elemento in lista:\n",
    "    print(elemento)"
   ]
  },
  {
   "cell_type": "code",
   "execution_count": 15,
   "metadata": {},
   "outputs": [
    {
     "name": "stdout",
     "output_type": "stream",
     "text": [
      "2\n",
      "46\n",
      "62\n",
      "80\n",
      "112\n",
      "32\n"
     ]
    }
   ],
   "source": [
    "# Faça um for que imprima o dobro de cada elemento da lista \"lista\" \n",
    "for elemento in lista:\n",
    "    print(elemento * 2)"
   ]
  },
  {
   "cell_type": "code",
   "execution_count": 16,
   "metadata": {},
   "outputs": [],
   "source": [
    "# Gere uma lista chamada \"dobro\" com o dobro de cada elemento de \"lista\" usando list comprehension"
   ]
  },
  {
   "cell_type": "code",
   "execution_count": 17,
   "metadata": {},
   "outputs": [
    {
     "name": "stdout",
     "output_type": "stream",
     "text": [
      "[40, 56, 16]\n"
     ]
    }
   ],
   "source": [
    "# Crie uma nova lista chamada \"pares\"\n",
    "pares = []\n",
    "# Faça um for que itetere sobre a lista \"lista\" e para cada elemento impar coloque ele no fim da lista \"pares\"\n",
    "for elemento in lista:\n",
    "    if (elemento%2 == 0):\n",
    "        pares.append(elemento)\n",
    "# Imprima a lista \"pares\"\n",
    "print(pares)"
   ]
  },
  {
   "cell_type": "code",
   "execution_count": 18,
   "metadata": {},
   "outputs": [],
   "source": [
    "lista2 = ['oi', 2, 2.5, 'top', 'python', 45]"
   ]
  },
  {
   "cell_type": "code",
   "execution_count": 19,
   "metadata": {},
   "outputs": [
    {
     "name": "stdout",
     "output_type": "stream",
     "text": [
      "oi\n",
      "top\n",
      "python\n"
     ]
    }
   ],
   "source": [
    "# Faça um for pela \"lista2\" e imprima todos os elementos que são strings (Dica: pesquise pela função type())\n",
    "for elemento in lista2:\n",
    "    tipo = type(elemento)\n",
    "    if (tipo == str):\n",
    "        print(elemento)"
   ]
  },
  {
   "cell_type": "markdown",
   "metadata": {},
   "source": [
    "#### Indexando"
   ]
  },
  {
   "cell_type": "code",
   "execution_count": 20,
   "metadata": {},
   "outputs": [],
   "source": [
    "my_list = [0, 10, 20, 30, 40, 50, 60, 70]"
   ]
  },
  {
   "cell_type": "code",
   "execution_count": 21,
   "metadata": {},
   "outputs": [],
   "source": [
    "# Selecione o ultimo elemento da lista"
   ]
  },
  {
   "cell_type": "code",
   "execution_count": 22,
   "metadata": {},
   "outputs": [
    {
     "name": "stdout",
     "output_type": "stream",
     "text": [
      "70\n"
     ]
    }
   ],
   "source": [
    "# * PRIMEIRA FORMA * #\n",
    "ultimo_elemento = my_list[7]\n",
    "print(ultimo_elemento)"
   ]
  },
  {
   "cell_type": "code",
   "execution_count": 23,
   "metadata": {},
   "outputs": [
    {
     "data": {
      "text/plain": [
       "70"
      ]
     },
     "execution_count": 23,
     "metadata": {},
     "output_type": "execute_result"
    }
   ],
   "source": [
    "# * SEGUNDA FORMA * #\n",
    "ultimo_elemento = my_list[-1]\n",
    "ultimo_elemento"
   ]
  },
  {
   "cell_type": "code",
   "execution_count": 24,
   "metadata": {},
   "outputs": [
    {
     "name": "stdout",
     "output_type": "stream",
     "text": [
      "[0, 10, 20, 30]\n"
     ]
    }
   ],
   "source": [
    "# Selecione do primeiro até o 4 elemento da lista\n",
    "select = my_list[0:4]\n",
    "print(select)"
   ]
  },
  {
   "cell_type": "code",
   "execution_count": 25,
   "metadata": {},
   "outputs": [
    {
     "name": "stdout",
     "output_type": "stream",
     "text": [
      "[10, 20, 30, 40]\n"
     ]
    }
   ],
   "source": [
    "# Selecione do segundo elemento da lista até o quinto\n",
    "select = my_list[1:5]\n",
    "print(select)"
   ]
  },
  {
   "cell_type": "code",
   "execution_count": 26,
   "metadata": {},
   "outputs": [
    {
     "name": "stdout",
     "output_type": "stream",
     "text": [
      "[0, 10, 20, 30, 40, 50, 60]\n"
     ]
    }
   ],
   "source": [
    "# Selecione do primeiro elemento da lista até o penultimo\n",
    "select = my_list[0:-1]\n",
    "print(select)"
   ]
  },
  {
   "cell_type": "markdown",
   "metadata": {},
   "source": [
    "### Dicionários"
   ]
  },
  {
   "cell_type": "code",
   "execution_count": 27,
   "metadata": {},
   "outputs": [],
   "source": [
    "lista = ['a', 'a', 'b', 'a', 'c', 'd', 'e', 'b', 'b', 'c']"
   ]
  },
  {
   "cell_type": "code",
   "execution_count": 28,
   "metadata": {},
   "outputs": [],
   "source": [
    "# Crie um dicionario que contenha a contagem de cada elemento do vetor\n",
    "my_dict = {'a': lista.count('a'), 'b': lista.count('b'), 'c': lista.count('c'), 'd': lista.count('d'), 'e': lista.count('e')}\n",
    "#..."
   ]
  },
  {
   "cell_type": "code",
   "execution_count": 29,
   "metadata": {},
   "outputs": [
    {
     "name": "stdout",
     "output_type": "stream",
     "text": [
      "{'a': 3, 'b': 3, 'c': 2, 'd': 1, 'e': 1}\n"
     ]
    }
   ],
   "source": [
    "print(my_dict)"
   ]
  },
  {
   "cell_type": "markdown",
   "metadata": {},
   "source": [
    "### Funções"
   ]
  },
  {
   "cell_type": "code",
   "execution_count": 30,
   "metadata": {},
   "outputs": [],
   "source": [
    "# Crie uma função soma_elementos() que recebe uma lista e retorna a soma de todos os seus elementos\n",
    "def soma_elementos(lista):\n",
    "    soma = sum(lista)\n",
    "    return soma"
   ]
  },
  {
   "cell_type": "code",
   "execution_count": 31,
   "metadata": {},
   "outputs": [
    {
     "data": {
      "text/plain": [
       "15"
      ]
     },
     "execution_count": 31,
     "metadata": {},
     "output_type": "execute_result"
    }
   ],
   "source": [
    "soma_elementos([1, 2, 3, 4, 5])"
   ]
  },
  {
   "cell_type": "code",
   "execution_count": 32,
   "metadata": {},
   "outputs": [
    {
     "data": {
      "text/plain": [
       "9"
      ]
     },
     "execution_count": 32,
     "metadata": {},
     "output_type": "execute_result"
    }
   ],
   "source": [
    "soma_elementos([-1, 5, 7, -2])"
   ]
  },
  {
   "cell_type": "code",
   "execution_count": 33,
   "metadata": {},
   "outputs": [],
   "source": [
    "# Crie uma função produto_escalar() que recebe duas listas de tamanho igual e calcula o produto escalar entre elas\n",
    "# Dica: Utilize a função zip\n",
    "def produto_escalar(lista_1, lista_2):\n",
    "    # * Contando o número de elementos da primeira lista:\n",
    "    num_elementos = len(lista_1)\n",
    "    produto = list(zip(lista_1, lista_2))\n",
    "    \n",
    "    contador = 0\n",
    "    lista_multiplicacao = []\n",
    "    while (contador < num_elementos):\n",
    "        multiplicacao = (produto[contador][0])*(produto[contador][1])\n",
    "        lista_multiplicacao.append(multiplicacao)\n",
    "        contador += 1\n",
    "\n",
    "    print(lista_multiplicacao)\n",
    "    \n",
    "    produto_escalar_calculado = sum(lista_multiplicacao)\n",
    "    print(\"Produto escalar = \", produto_escalar_calculado)"
   ]
  },
  {
   "cell_type": "code",
   "execution_count": 34,
   "metadata": {},
   "outputs": [
    {
     "name": "stdout",
     "output_type": "stream",
     "text": [
      "[0, 8, 21]\n",
      "Produto escalar =  29\n"
     ]
    }
   ],
   "source": [
    "produto_escalar([1, 2, 3], [0, 4, 7])"
   ]
  },
  {
   "cell_type": "code",
   "execution_count": 35,
   "metadata": {
    "jupyter": {
     "outputs_hidden": true
    }
   },
   "outputs": [
    {
     "name": "stdout",
     "output_type": "stream",
     "text": [
      "[230, 80, 80, 1]\n",
      "Produto escalar =  391\n"
     ]
    }
   ],
   "source": [
    "produto_escalar([10, 20, 40, 1], [23, 4, 2, 1])"
   ]
  },
  {
   "cell_type": "code",
   "execution_count": 36,
   "metadata": {},
   "outputs": [],
   "source": [
    "# Crie uma função par_ou_impar() que recebe um numero n é para cada numero de 1 a n imprime o numero\n",
    "# seguido de par ou impar, dependendo do que ele seja. Caso o usuário não coloque nada n deve valer 20\n",
    "# Exemplo: par_ou_impar(4)\n",
    "#   1 Impar\n",
    "#   2 Par\n",
    "#   3 Impar\n",
    "#   4 Par\n",
    "\n",
    "def par_ou_impar(n):\n",
    "    while (n>=1):\n",
    "        teste_par_ou_impar = n % 2\n",
    "        if (teste_par_ou_impar == 0):\n",
    "            print(n, \"Par\")\n",
    "        else:\n",
    "            print(n, \"Ímpar\")\n",
    "        n = n - 1"
   ]
  },
  {
   "cell_type": "code",
   "execution_count": 37,
   "metadata": {},
   "outputs": [
    {
     "name": "stdout",
     "output_type": "stream",
     "text": [
      "15 Ímpar\n",
      "14 Par\n",
      "13 Ímpar\n",
      "12 Par\n",
      "11 Ímpar\n",
      "10 Par\n",
      "9 Ímpar\n",
      "8 Par\n",
      "7 Ímpar\n",
      "6 Par\n",
      "5 Ímpar\n",
      "4 Par\n",
      "3 Ímpar\n",
      "2 Par\n",
      "1 Ímpar\n"
     ]
    }
   ],
   "source": [
    "par_ou_impar(15)"
   ]
  },
  {
   "cell_type": "code",
   "execution_count": 38,
   "metadata": {},
   "outputs": [
    {
     "name": "stdout",
     "output_type": "stream",
     "text": [
      "15 Ímpar\n",
      "14 Par\n",
      "13 Ímpar\n",
      "12 Par\n",
      "11 Ímpar\n",
      "10 Par\n",
      "9 Ímpar\n",
      "8 Par\n",
      "7 Ímpar\n",
      "6 Par\n",
      "5 Ímpar\n",
      "4 Par\n",
      "3 Ímpar\n",
      "2 Par\n",
      "1 Ímpar\n"
     ]
    }
   ],
   "source": [
    "par_ou_impar(15)"
   ]
  },
  {
   "cell_type": "code",
   "execution_count": 39,
   "metadata": {},
   "outputs": [],
   "source": [
    "# Crie uma função diga_indice() que recebe uma lista e imprime o indice de cada elemento e em seguida \n",
    "# o proprio elemento\n",
    "# Exemplo: diga_indice(['oi', 'tudo', 'bem'])\n",
    "#    0 oi\n",
    "#    1 tudo\n",
    "#    2 bem\n",
    "# (DICA: Pesquise pela função enumerate)\n",
    "\n",
    "def diga_indice(lista):\n",
    "    saida = list(enumerate(lista))\n",
    "    return (saida)"
   ]
  },
  {
   "cell_type": "code",
   "execution_count": 40,
   "metadata": {},
   "outputs": [
    {
     "data": {
      "text/plain": [
       "[(0, '1'), (1, '2'), (2, '3')]"
      ]
     },
     "execution_count": 40,
     "metadata": {},
     "output_type": "execute_result"
    }
   ],
   "source": [
    "diga_indice(['1', '2', '3'])"
   ]
  },
  {
   "cell_type": "code",
   "execution_count": 41,
   "metadata": {},
   "outputs": [
    {
     "data": {
      "text/plain": [
       "[(0, 'a'), (1, 'b'), (2, 'c'), (3, 'd'), (4, 'e')]"
      ]
     },
     "execution_count": 41,
     "metadata": {},
     "output_type": "execute_result"
    }
   ],
   "source": [
    "diga_indice(['a', 'b', 'c', 'd', 'e'])"
   ]
  },
  {
   "cell_type": "markdown",
   "metadata": {},
   "source": [
    "## Numpy\n",
    "\n",
    "O elemento central do numpy são os arrays, então aqui vamos treinar muitas coisas sobre eles"
   ]
  },
  {
   "cell_type": "code",
   "execution_count": 42,
   "metadata": {
    "jupyter": {
     "outputs_hidden": true
    }
   },
   "outputs": [],
   "source": [
    "# Importando a biblioteca\n",
    "import numpy as np"
   ]
  },
  {
   "cell_type": "markdown",
   "metadata": {},
   "source": [
    "### Arrays"
   ]
  },
  {
   "cell_type": "code",
   "execution_count": 43,
   "metadata": {},
   "outputs": [],
   "source": [
    "a = np.array([1, 2, 3, 4, 5, 6, 7])\n",
    "\n",
    "b = np.array([[1, 2, 3, 4],\n",
    "              [5, 6, 7, 8]])\n",
    "\n",
    "c = np.zeros((3,4))"
   ]
  },
  {
   "cell_type": "code",
   "execution_count": 44,
   "metadata": {
    "jupyter": {
     "outputs_hidden": true
    }
   },
   "outputs": [
    {
     "name": "stdout",
     "output_type": "stream",
     "text": [
      "Shape a =  (7,) \n",
      "Shape b =  (2, 4) \n",
      "Shape c =  (3, 4)\n"
     ]
    }
   ],
   "source": [
    "# Pense em qual é a shape de cada um dos arrays acima\n",
    "# Depois de pensar imprima cada um deles para conferir sua resposta\n",
    "dimensao_a = np.shape(a)\n",
    "dimensao_b = np.shape(b)\n",
    "dimensao_c = np.shape(c)\n",
    "print(\"Shape a = \", dimensao_a, \"\\nShape b = \", dimensao_b, \"\\nShape c = \", dimensao_c)"
   ]
  },
  {
   "cell_type": "code",
   "execution_count": 45,
   "metadata": {
    "jupyter": {
     "outputs_hidden": true
    }
   },
   "outputs": [],
   "source": [
    "# Crie um array de uma dimenção com 20 elementos inteiros aletórios entre 0 e 23bb"
   ]
  },
  {
   "cell_type": "code",
   "execution_count": 46,
   "metadata": {
    "jupyter": {
     "outputs_hidden": true
    }
   },
   "outputs": [
    {
     "name": "stdout",
     "output_type": "stream",
     "text": [
      "[[1. 1. 1. 1. 1.]\n",
      " [1. 1. 1. 1. 1.]\n",
      " [1. 1. 1. 1. 1.]\n",
      " [1. 1. 1. 1. 1.]]\n"
     ]
    }
   ],
   "source": [
    "# Crie um array de uns com shape (4, 5)\n",
    "array_uns = np.ones((4,5))\n",
    "print(array_uns)"
   ]
  },
  {
   "cell_type": "code",
   "execution_count": 47,
   "metadata": {
    "jupyter": {
     "outputs_hidden": true
    }
   },
   "outputs": [
    {
     "name": "stdout",
     "output_type": "stream",
     "text": [
      "[[77. 77.]\n",
      " [77. 77.]\n",
      " [77. 77.]\n",
      " [77. 77.]]\n"
     ]
    }
   ],
   "source": [
    "# Crie um array shape (4, 2) onde cada entrada vale 77\n",
    "# (Dica: Talvez vc tenha que usar uma multiplicação)\n",
    "array_77 = np.ones((4,2))\n",
    "array_77 = array_77 * 77\n",
    "print(array_77)"
   ]
  },
  {
   "cell_type": "code",
   "execution_count": 48,
   "metadata": {
    "jupyter": {
     "outputs_hidden": true
    }
   },
   "outputs": [
    {
     "name": "stdout",
     "output_type": "stream",
     "text": [
      "[  0   1   2   3   4   5   6   7   8   9  10  11  12  13  14  15  16  17\n",
      "  18  19  20  21  22  23  24  25  26  27  28  29  30  31  32  33  34  35\n",
      "  36  37  38  39  40  41  42  43  44  45  46  47  48  49  50  51  52  53\n",
      "  54  55  56  57  58  59  60  61  62  63  64  65  66  67  68  69  70  71\n",
      "  72  73  74  75  76  77  78  79  80  81  82  83  84  85  86  87  88  89\n",
      "  90  91  92  93  94  95  96  97  98  99 100] \n",
      "\n",
      "<class 'numpy.ndarray'>\n"
     ]
    }
   ],
   "source": [
    "# Gere um array chamado my_sequence com os numeros 0, 10, 20, 30, ..., 90, 100]\n",
    "my_sequence = np.arange(0, 101, 1)\n",
    "print(my_sequence, f'\\n\\n{type(my_sequence)}')"
   ]
  },
  {
   "cell_type": "markdown",
   "metadata": {},
   "source": [
    "### Indexando"
   ]
  },
  {
   "cell_type": "code",
   "execution_count": 49,
   "metadata": {},
   "outputs": [
    {
     "name": "stdout",
     "output_type": "stream",
     "text": [
      "[33 49 39 21  5  2  4 26 27 39 28  4  0 48 20]\n"
     ]
    }
   ],
   "source": [
    "my_array = np.random.randint(50, size=(15,))\n",
    "print(my_array)"
   ]
  },
  {
   "cell_type": "code",
   "execution_count": 50,
   "metadata": {
    "jupyter": {
     "outputs_hidden": true
    }
   },
   "outputs": [
    {
     "data": {
      "text/plain": [
       "array([ 5,  2,  4, 26, 27, 39, 28])"
      ]
     },
     "execution_count": 50,
     "metadata": {},
     "output_type": "execute_result"
    }
   ],
   "source": [
    "# Selecione todos os elementos entre o quinto e o decimo primeiro (intervalo fechado)\n",
    "slice_my_array = my_array[4:11]\n",
    "slice_my_array"
   ]
  },
  {
   "cell_type": "code",
   "execution_count": 51,
   "metadata": {
    "jupyter": {
     "outputs_hidden": true
    }
   },
   "outputs": [
    {
     "name": "stdout",
     "output_type": "stream",
     "text": [
      "[ True  True  True  True False False False  True  True  True  True False\n",
      " False  True False] \n",
      "\n",
      "[33 49 39 21 26 27 39 28 48]\n"
     ]
    }
   ],
   "source": [
    "# Selecione todos os elementos maiores que 20\n",
    "select_my_array = my_array > 20\n",
    "select_my_array_maior_20 = my_array[select_my_array]\n",
    "print(select_my_array, f'\\n\\n{select_my_array_maior_20}')"
   ]
  },
  {
   "cell_type": "code",
   "execution_count": 52,
   "metadata": {
    "jupyter": {
     "outputs_hidden": true
    }
   },
   "outputs": [],
   "source": [
    "my_matrix = np.array([[1, 2, 3, 4],\n",
    "                      [5, 6, 7, 8],\n",
    "                      [9, 10, 11, 12],\n",
    "                      [13, 14, 15, 16]])"
   ]
  },
  {
   "cell_type": "code",
   "execution_count": 53,
   "metadata": {
    "jupyter": {
     "outputs_hidden": true
    }
   },
   "outputs": [
    {
     "name": "stdout",
     "output_type": "stream",
     "text": [
      "3\n"
     ]
    }
   ],
   "source": [
    "# Selecione o elemento na primeira linha da terceira coluna\n",
    "select_one_my_matrix = my_matrix[0,2]\n",
    "print(select_one_my_matrix)"
   ]
  },
  {
   "cell_type": "code",
   "execution_count": 54,
   "metadata": {
    "jupyter": {
     "outputs_hidden": true
    }
   },
   "outputs": [
    {
     "name": "stdout",
     "output_type": "stream",
     "text": [
      "4\n"
     ]
    }
   ],
   "source": [
    "# Selecione o elemento na primeira linha da ultima coluna\n",
    "select_two_my_matrix = my_matrix[0, 3]\n",
    "print(select_two_my_matrix)"
   ]
  },
  {
   "cell_type": "code",
   "execution_count": 55,
   "metadata": {
    "jupyter": {
     "outputs_hidden": true
    }
   },
   "outputs": [
    {
     "name": "stdout",
     "output_type": "stream",
     "text": [
      "[[ 6  7]\n",
      " [10 11]]\n"
     ]
    }
   ],
   "source": [
    "# Selecione os elementos da matriz para obter o seguinte\n",
    "# [[6, 7],\n",
    "#  [10, 11]]\n",
    "slice_one_my_matrix = my_matrix[1:3, 1:3]\n",
    "print(slice_one_my_matrix)"
   ]
  },
  {
   "cell_type": "code",
   "execution_count": 56,
   "metadata": {
    "jupyter": {
     "outputs_hidden": true
    }
   },
   "outputs": [
    {
     "name": "stdout",
     "output_type": "stream",
     "text": [
      "[[2 3 4]\n",
      " [6 7 8]]\n"
     ]
    }
   ],
   "source": [
    "# Selecione os elementos da matriz para obter o seguinte\n",
    "# [[2, 3, 4],\n",
    "#  [6, 7, 8]]\n",
    "slice_two_my_matrix = my_matrix[0:2, 1:4]\n",
    "print(slice_two_my_matrix)"
   ]
  },
  {
   "cell_type": "code",
   "execution_count": 57,
   "metadata": {
    "jupyter": {
     "outputs_hidden": true
    }
   },
   "outputs": [
    {
     "name": "stdout",
     "output_type": "stream",
     "text": [
      "[ 4  8 12 16]\n"
     ]
    }
   ],
   "source": [
    "# Selecione os elementos da ultima coluna inteira\n",
    "select_three_my_matrix = my_matrix[:,3]\n",
    "print(select_three_my_matrix)"
   ]
  },
  {
   "cell_type": "code",
   "execution_count": 58,
   "metadata": {
    "jupyter": {
     "outputs_hidden": true
    }
   },
   "outputs": [
    {
     "name": "stdout",
     "output_type": "stream",
     "text": [
      "[5 6 7 8]\n"
     ]
    }
   ],
   "source": [
    "# Selecione os elementos da 2a linha inteira\n",
    "select_four_my_matrix = my_matrix[1, :]\n",
    "print(select_four_my_matrix)"
   ]
  },
  {
   "cell_type": "markdown",
   "metadata": {},
   "source": [
    "### Operações"
   ]
  },
  {
   "cell_type": "code",
   "execution_count": 59,
   "metadata": {},
   "outputs": [
    {
     "name": "stdout",
     "output_type": "stream",
     "text": [
      "[9 8 2 0 8]\n"
     ]
    }
   ],
   "source": [
    "my_array = np.random.randint(10, size=(5,))\n",
    "print(my_array)"
   ]
  },
  {
   "cell_type": "code",
   "execution_count": 60,
   "metadata": {
    "jupyter": {
     "outputs_hidden": true
    }
   },
   "outputs": [
    {
     "name": "stdout",
     "output_type": "stream",
     "text": [
      "[19 18 12 10 18]\n"
     ]
    }
   ],
   "source": [
    "# Some 10 a todos os elementos de my_array\n",
    "my_array_plus_10 = my_array + 10\n",
    "print(my_array_plus_10)"
   ]
  },
  {
   "cell_type": "code",
   "execution_count": 61,
   "metadata": {
    "jupyter": {
     "outputs_hidden": true
    }
   },
   "outputs": [
    {
     "name": "stdout",
     "output_type": "stream",
     "text": [
      "[36 32  8  0 32]\n"
     ]
    }
   ],
   "source": [
    "# Multiplique todos os elementos de my_array por 4\n",
    "my_array_mult_4 = my_array * 4\n",
    "print(my_array_mult_4)"
   ]
  },
  {
   "cell_type": "code",
   "execution_count": 87,
   "metadata": {
    "jupyter": {
     "outputs_hidden": true
    }
   },
   "outputs": [
    {
     "name": "stdout",
     "output_type": "stream",
     "text": [
      "22\n"
     ]
    }
   ],
   "source": [
    "# Obtenha a soma de todos os elementos de my_array\n",
    "my_array_plus_total = np.sum(my_array)\n",
    "print(my_array_plus_total)"
   ]
  },
  {
   "cell_type": "code",
   "execution_count": 88,
   "metadata": {
    "jupyter": {
     "outputs_hidden": true
    }
   },
   "outputs": [
    {
     "name": "stdout",
     "output_type": "stream",
     "text": [
      "4.4\n"
     ]
    }
   ],
   "source": [
    "# Obtenha a média de todos os elementos de my_array\n",
    "my_array_mean = np.mean(my_array)\n",
    "print(my_array_mean)"
   ]
  },
  {
   "cell_type": "code",
   "execution_count": 97,
   "metadata": {
    "jupyter": {
     "outputs_hidden": true
    }
   },
   "outputs": [],
   "source": [
    "# Obtenha o indice do maior elemento de my_array"
   ]
  },
  {
   "cell_type": "code",
   "execution_count": 90,
   "metadata": {},
   "outputs": [
    {
     "name": "stdout",
     "output_type": "stream",
     "text": [
      "[8 2 4 6 6] \n",
      "\n",
      "[6 0 0 9 6]\n"
     ]
    }
   ],
   "source": [
    "my_array = np.random.randint(10, size=(5,))\n",
    "my_other_array = np.random.randint(10, size=(5,))\n",
    "print(my_array, '\\n')\n",
    "print(my_other_array)"
   ]
  },
  {
   "cell_type": "code",
   "execution_count": 63,
   "metadata": {},
   "outputs": [
    {
     "name": "stdout",
     "output_type": "stream",
     "text": [
      "[2 3 2 2 7] \n",
      "\n",
      "[[2 6 9 7 7]\n",
      " [6 8 9 1 7]\n",
      " [3 1 1 9 4]\n",
      " [1 5 1 5 3]\n",
      " [5 6 1 6 6]\n",
      " [7 6 6 6 8]\n",
      " [9 1 4 1 4]\n",
      " [0 4 8 4 5]\n",
      " [5 3 3 3 3]\n",
      " [2 1 9 1 6]]\n"
     ]
    }
   ],
   "source": [
    "my_array = np.random.randint(10, size=(5,))\n",
    "my_other_array = np.random.randint(10, size=(10,5))\n",
    "print(my_array, '\\n')\n",
    "print(my_other_array)"
   ]
  },
  {
   "cell_type": "code",
   "execution_count": 64,
   "metadata": {
    "jupyter": {
     "outputs_hidden": true
    }
   },
   "outputs": [
    {
     "name": "stdout",
     "output_type": "stream",
     "text": [
      "[[ 4  9 11  9 14]\n",
      " [ 8 11 11  3 14]\n",
      " [ 5  4  3 11 11]\n",
      " [ 3  8  3  7 10]\n",
      " [ 7  9  3  8 13]\n",
      " [ 9  9  8  8 15]\n",
      " [11  4  6  3 11]\n",
      " [ 2  7 10  6 12]\n",
      " [ 7  6  5  5 10]\n",
      " [ 4  4 11  3 13]]\n"
     ]
    }
   ],
   "source": [
    "# Some my_array elemento por elemento em cada linha de my_other_array\n",
    "# * Broadcasting * #\n",
    "array_plus_each = my_array + my_other_array\n",
    "print(array_plus_each)"
   ]
  },
  {
   "cell_type": "code",
   "execution_count": 65,
   "metadata": {},
   "outputs": [
    {
     "name": "stdout",
     "output_type": "stream",
     "text": [
      "[[2 5 9 8]\n",
      " [3 0 0 6]\n",
      " [9 4 0 3]\n",
      " [0 9 0 7]\n",
      " [2 7 1 6]] \n",
      "\n",
      "[[6 3 7 0 2]\n",
      " [3 2 3 4 8]\n",
      " [1 4 7 5 2]\n",
      " [3 3 1 5 4]\n",
      " [4 2 8 8 0]\n",
      " [6 5 5 9 5]\n",
      " [6 7 7 1 6]\n",
      " [5 7 9 0 7]\n",
      " [5 2 6 1 0]\n",
      " [5 1 2 9 1]]\n"
     ]
    }
   ],
   "source": [
    "my_array = np.random.randint(10, size=(5,4))\n",
    "my_other_array = np.random.randint(10, size=(10,5))\n",
    "print(my_array, '\\n')\n",
    "print(my_other_array)"
   ]
  },
  {
   "cell_type": "code",
   "execution_count": 66,
   "metadata": {
    "jupyter": {
     "outputs_hidden": true
    }
   },
   "outputs": [
    {
     "ename": "ValueError",
     "evalue": "shapes (5,4) and (10,5) not aligned: 4 (dim 1) != 10 (dim 0)",
     "output_type": "error",
     "traceback": [
      "\u001b[1;31m---------------------------------------------------------------------------\u001b[0m",
      "\u001b[1;31mValueError\u001b[0m                                Traceback (most recent call last)",
      "\u001b[1;32m<ipython-input-66-e44e8ac0bd8a>\u001b[0m in \u001b[0;36m<module>\u001b[1;34m\u001b[0m\n\u001b[0;32m      1\u001b[0m \u001b[1;31m# Faça a multiplicação entre my_other_array e my_array\u001b[0m\u001b[1;33m\u001b[0m\u001b[1;33m\u001b[0m\u001b[1;33m\u001b[0m\u001b[0m\n\u001b[1;32m----> 2\u001b[1;33m \u001b[0marray_mult\u001b[0m \u001b[1;33m=\u001b[0m \u001b[0mnp\u001b[0m\u001b[1;33m.\u001b[0m\u001b[0mdot\u001b[0m\u001b[1;33m(\u001b[0m\u001b[0mmy_array\u001b[0m\u001b[1;33m,\u001b[0m \u001b[0mmy_other_array\u001b[0m\u001b[1;33m)\u001b[0m\u001b[1;33m\u001b[0m\u001b[1;33m\u001b[0m\u001b[0m\n\u001b[0m",
      "\u001b[1;32m<__array_function__ internals>\u001b[0m in \u001b[0;36mdot\u001b[1;34m(*args, **kwargs)\u001b[0m\n",
      "\u001b[1;31mValueError\u001b[0m: shapes (5,4) and (10,5) not aligned: 4 (dim 1) != 10 (dim 0)"
     ]
    }
   ],
   "source": [
    "# Faça a multiplicação entre my_other_array e my_array\n",
    "# * Erro - arrays com dimensões diferentes (número de linhas #s do de colunas)\n",
    "array_mult = np.dot(my_array, my_other_array)"
   ]
  },
  {
   "cell_type": "code",
   "execution_count": 68,
   "metadata": {
    "jupyter": {
     "outputs_hidden": true
    }
   },
   "outputs": [
    {
     "name": "stdout",
     "output_type": "stream",
     "text": [
      "[18 20 19 16 22 30 27 28 14 18]\n"
     ]
    }
   ],
   "source": [
    "# Descubra a soma dos valores de cada linha de my_other_array\n",
    "# (Dica: Pesquise sobre o atributo axis da função de soma)\n",
    "my_other_array_plus = np.sum(my_other_array, axis = 1)\n",
    "print(my_other_array_plus)"
   ]
  },
  {
   "cell_type": "code",
   "execution_count": 92,
   "metadata": {},
   "outputs": [
    {
     "name": "stdout",
     "output_type": "stream",
     "text": [
      "[[5 4 5 0]\n",
      " [9 8 8 0]\n",
      " [3 2 0 4]\n",
      " [0 4 5 4]\n",
      " [4 3 5 3]]\n"
     ]
    }
   ],
   "source": [
    "my_array = np.random.randint(10, size=(5,4))\n",
    "print(my_array)"
   ]
  },
  {
   "cell_type": "code",
   "execution_count": 94,
   "metadata": {
    "jupyter": {
     "outputs_hidden": true
    }
   },
   "outputs": [
    {
     "name": "stdout",
     "output_type": "stream",
     "text": [
      "[5 4 5 0 9 8 8 0 3 2 0 4 0 4 5 4 4 3 5 3]\n"
     ]
    }
   ],
   "source": [
    "# Usando reshape transforme a matriz acima em um vetor (Concatendo a linha de baixo na de cima)\n",
    "my_array_new = my_array.reshape(20)\n",
    "print(my_array_new)\n"
   ]
  },
  {
   "cell_type": "code",
   "execution_count": 95,
   "metadata": {},
   "outputs": [
    {
     "data": {
      "text/plain": [
       "array([[ 0,  1,  2,  3,  4,  5,  6,  7],\n",
       "       [ 8,  9, 10, 11, 12, 13, 14, 15]])"
      ]
     },
     "execution_count": 95,
     "metadata": {},
     "output_type": "execute_result"
    }
   ],
   "source": [
    "np.array([[ 0,  1,  2,  3,  4,  5,  6,  7],\n",
    "          [ 8,  9, 10, 11, 12, 13, 14, 15]])"
   ]
  },
  {
   "cell_type": "code",
   "execution_count": 96,
   "metadata": {
    "jupyter": {
     "outputs_hidden": true
    }
   },
   "outputs": [
    {
     "name": "stdout",
     "output_type": "stream",
     "text": [
      "[ 0  1  2  3  4  5  6  7  8  9 10 11 12 13 14 15]\n"
     ]
    }
   ],
   "source": [
    "# Gere a array anterior usando np.arange e a função reshape\n",
    "array_born = np.arange(16)\n",
    "print(array_born)"
   ]
  },
  {
   "cell_type": "code",
   "execution_count": null,
   "metadata": {},
   "outputs": [],
   "source": []
  }
 ],
 "metadata": {
  "kernelspec": {
   "display_name": "Python 3",
   "language": "python",
   "name": "python3"
  },
  "language_info": {
   "codemirror_mode": {
    "name": "ipython",
    "version": 3
   },
   "file_extension": ".py",
   "mimetype": "text/x-python",
   "name": "python",
   "nbconvert_exporter": "python",
   "pygments_lexer": "ipython3",
   "version": "3.7.6"
  }
 },
 "nbformat": 4,
 "nbformat_minor": 4
}
